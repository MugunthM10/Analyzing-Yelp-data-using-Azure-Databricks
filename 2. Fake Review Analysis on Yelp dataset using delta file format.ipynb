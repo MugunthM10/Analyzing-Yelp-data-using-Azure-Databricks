{
 "cells": [
  {
   "cell_type": "code",
   "execution_count": 0,
   "metadata": {
    "application/vnd.databricks.v1+cell": {
     "cellMetadata": {
      "byteLimit": 2048000,
      "rowLimit": 10000
     },
     "inputWidgets": {},
     "nuid": "055ef03e-067e-4518-9704-916e6ca6046d",
     "showTitle": false,
     "title": ""
    }
   },
   "outputs": [],
   "source": [
    "import pyspark.sql.functions as f\n",
    "from pyspark.sql.window import Window\n",
    "from pyspark.sql import SparkSession"
   ]
  },
  {
   "cell_type": "code",
   "execution_count": 0,
   "metadata": {
    "application/vnd.databricks.v1+cell": {
     "cellMetadata": {
      "byteLimit": 2048000,
      "rowLimit": 10000
     },
     "inputWidgets": {},
     "nuid": "c2dd3107-bad7-43d3-9c49-9560d5ba016a",
     "showTitle": false,
     "title": ""
    }
   },
   "outputs": [
    {
     "output_type": "stream",
     "name": "stdout",
     "output_type": "stream",
     "text": [
      "+--------------------+----+-------------------+-----+--------------------+-----+--------------------+------+--------------------+\n|         business_id|cool|               date|funny|           review_id|stars|                text|useful|             user_id|\n+--------------------+----+-------------------+-----+--------------------+-----+--------------------+------+--------------------+\n|XQfwVwDr-v0ZS3_Cb...|   0|2018-07-07 22:09:11|    0|KU_O5udG6zpxOg-Vc...|  3.0|If you decide to ...|     0|mh_-eMZ6K5RLWhZyI...|\n|7ATYjTIgM3jUlt4UM...|   1|2012-01-03 15:28:18|    0|BiTunyQ73aT9WBnpR...|  5.0|I've taken a lot ...|     1|OyoGAe7OKpv6SyGZT...|\n|YjUWPpI6HXG530lwP...|   0|2014-02-05 20:30:30|    0|saUsX_uimxRlCVr67...|  3.0|Family diner. Had...|     0|8g_iMtfSiwikVnbP2...|\n|kxX2SOes4o-D3ZQBk...|   1|2015-01-04 00:01:03|    0|AqPFMleE6RsU23_au...|  5.0|Wow!  Yummy, diff...|     1|_7bHUi9Uuf5__HHc_...|\n|e4Vwtrqf-wpJfwesg...|   1|2017-01-14 20:54:15|    0|Sx8TMOWLNuJBWer-0...|  4.0|Cute interior and...|     1|bcjbaE6dDog4jkNY9...|\n|04UD14gamNjLY0IDY...|   1|2015-09-23 23:10:31|    2|JrIxlS1TzJ-iCu79u...|  1.0|I am a long term ...|     1|eUta8W_HdHMXPzLBB...|\n|gmjsEdUsKpj9Xxu6p...|   0|2015-01-03 23:21:18|    2|6AxgBCNX_PNTOxmbR...|  5.0|Loved this tour! ...|     0|r3zeYsv1XFBRA4dJp...|\n|LHSTtnW3YHCeUkRDG...|   0|2015-08-07 02:29:16|    0|_ZeMknuYdlQcUqng_...|  5.0|Amazingly amazing...|     2|yfFzsLmaWF2d4Sr0U...|\n|B5XSoSG3SfvQGtKEG...|   0|2016-03-30 22:46:33|    1|ZKvDG2sBvHVdF5oBN...|  3.0|This easter inste...|     1|wSTuiTk-sKNdcFypr...|\n|gebiRewfieSdtt17P...|   0|2016-07-25 07:31:06|    0|pUycOfUwM8vqX7KjR...|  3.0|Had a party of 6 ...|     0|59MxRhNVhU9MYndMk...|\n|uMvVYRgGNXf5boolA...|   0|2015-06-21 14:48:06|    0|rGQRf8UafX7OTlMNN...|  5.0|My experience wit...|     2|1WHRWwQmZOZDAhp2Q...|\n|EQ-TZ2eeD_E0BHuvo...|   0|2015-08-19 14:31:45|    0|l3Wk_mvAog6XANIuG...|  4.0|Locals recommende...|     0|ZbqSHbgCjzVAqaa7N...|\n|lj-E32x9_FA7GmUrB...|   0|2014-06-27 22:44:01|    0|XW_LfMv0fV21l9c6x...|  4.0|Love going here f...|     0|9OAtfnWag-ajVxRbU...|\n|RZtGWDLCAtuipwaZ-...|   0|2009-10-14 19:57:14|    0|8JFGBuHMoiNDyfcxu...|  4.0|Good food--loved ...|     0|smOvOajNG0lS4Pq7d...|\n|otQS34_MymijPTdNB...|   0|2011-10-27 17:12:05|    2|UBp0zWyH60Hmw6Fsa...|  4.0|The bun makes the...|     0|4Uh27DgGzsp6PqrH9...|\n|BVndHaLihEYbr76Z0...|   0|2014-10-11 16:22:06|    0|OAhBYw8IQ6wlfw1ow...|  5.0|Great place for b...|     0|1C2lxzUo1Hyye4RFI...|\n|YtSqYv1Q_pOltsVPS...|   0|2013-06-24 11:21:25|    0|oyaMhzBSwfGgemSGu...|  5.0|Tremendous servic...|     0|Dd1jQj7S-BFGqRbAp...|\n|rBdG_23USc7DletfZ...|   0|2014-08-10 19:41:43|    0|LnGZB0fjfgeVDVz5I...|  4.0|The hubby and I h...|     1|j2wlzrntrbKwyOcOi...|\n|CLEWowfkj-wKYJlQD...|   1|2016-03-07 00:02:18|    0|u2vzZaOqJ2feRshaa...|  5.0|I go to blow bar ...|     2|NDZvyYHTUWWu-kqgQ...|\n|eFvzHawVJofxSnD7T...|   0|2014-11-12 15:30:27|    0|Xs8Z8lmKkosqW5mw_...|  5.0|My absolute favor...|     0|IQsF3Rc6IgCzjVV9D...|\n+--------------------+----+-------------------+-----+--------------------+-----+--------------------+------+--------------------+\nonly showing top 20 rows\n\n"
     ]
    }
   ],
   "source": [
    "# Load the Delta table from yelp data table format conversion\n",
    "df_review_delta = spark.sql(\"SELECT * FROM global_temp.df_review_delta_global_temp_view\")\n",
    "df_review_delta.show()"
   ]
  },
  {
   "cell_type": "code",
   "execution_count": 0,
   "metadata": {
    "application/vnd.databricks.v1+cell": {
     "cellMetadata": {
      "byteLimit": 2048000,
      "rowLimit": 10000
     },
     "inputWidgets": {},
     "nuid": "039a4347-b578-48da-a8ac-338fda90c9cf",
     "showTitle": false,
     "title": ""
    }
   },
   "outputs": [],
   "source": [
    "## Fake review Analysis\n",
    "\n",
    "import pandas as pd\n",
    "import numpy as np\n",
    "import matplotlib.pyplot as plt\n",
    "import seaborn as sns\n",
    "import nltk\n",
    "from nltk.corpus import stopwords\n",
    "import string\n",
    "import math\n",
    "from sklearn.feature_extraction.text import CountVectorizer\n",
    "from sklearn.model_selection import train_test_split, cross_val_score\n",
    "from sklearn.metrics import classification_report\n",
    "from sklearn.metrics import confusion_matrix, accuracy_score, roc_auc_score, roc_curve\n",
    "from sklearn.model_selection import RandomizedSearchCV\n",
    "%matplotlib inline"
   ]
  },
  {
   "cell_type": "code",
   "execution_count": 0,
   "metadata": {
    "application/vnd.databricks.v1+cell": {
     "cellMetadata": {
      "byteLimit": 2048000,
      "rowLimit": 10000
     },
     "inputWidgets": {},
     "nuid": "c0b17778-0c43-4cf9-a74f-8d54882b7ba0",
     "showTitle": false,
     "title": ""
    }
   },
   "outputs": [],
   "source": [
    "# Convert the DeltaTable to a pandas DataFrame\n",
    "review_df = df_review_delta.toPandas()"
   ]
  },
  {
   "cell_type": "code",
   "execution_count": 0,
   "metadata": {
    "application/vnd.databricks.v1+cell": {
     "cellMetadata": {
      "byteLimit": 2048000,
      "rowLimit": 10000
     },
     "inputWidgets": {},
     "nuid": "51b22914-f17d-40d6-a66d-9528bd05ecdf",
     "showTitle": false,
     "title": ""
    }
   },
   "outputs": [
    {
     "output_type": "stream",
     "name": "stdout",
     "output_type": "stream",
     "text": [
      "Shape of the dataset:\n(22500, 9)\nColumn names:\nIndex(['business_id', 'cool', 'date', 'funny', 'review_id', 'stars', 'text',\n       'useful', 'user_id'],\n      dtype='object')\nDatatype of each column:\nbusiness_id     object\ncool             int64\ndate            object\nfunny            int64\nreview_id       object\nstars          float64\ntext            object\nuseful           int64\nuser_id         object\ndtype: object\nFew dataset entries:\n              business_id  cool  ... useful                 user_id\n0  0l_njS4wGMadAk1b4nZRUA     0  ...      0  KzZIsBoZvhgL70be88CfSQ\n1  qhsJbgxVNDb0973r3Gjrow     1  ...      3  qOAYy-WGn54j7LyiqKU-OQ\n2  F87os-6oNyUAEeGxQJKFkw     0  ...      2  3-MUKEqZtyEJ8iZK2B2kDw\n3  WKF4p8kLDng4EECYC3RoeQ     0  ...      0  r6GXrPswAqNuPf6u4hkWwg\n4  UCMSWPqzXjd7QHq7v8PJjQ     0  ...      0  azJSQWKdhUCsFELul6sVnQ\n\n[5 rows x 9 columns]\n"
     ]
    },
    {
     "output_type": "execute_result",
     "data": {
      "text/html": [
       "<div>\n",
       "<style scoped>\n",
       "    .dataframe tbody tr th:only-of-type {\n",
       "        vertical-align: middle;\n",
       "    }\n",
       "\n",
       "    .dataframe tbody tr th {\n",
       "        vertical-align: top;\n",
       "    }\n",
       "\n",
       "    .dataframe thead th {\n",
       "        text-align: right;\n",
       "    }\n",
       "</style>\n",
       "<table border=\"1\" class=\"dataframe\">\n",
       "  <thead>\n",
       "    <tr style=\"text-align: right;\">\n",
       "      <th></th>\n",
       "      <th>business_id</th>\n",
       "      <th>cool</th>\n",
       "      <th>date</th>\n",
       "      <th>funny</th>\n",
       "      <th>review_id</th>\n",
       "      <th>stars</th>\n",
       "      <th>text</th>\n",
       "      <th>useful</th>\n",
       "      <th>user_id</th>\n",
       "    </tr>\n",
       "  </thead>\n",
       "  <tbody>\n",
       "    <tr>\n",
       "      <th>count</th>\n",
       "      <td>22500</td>\n",
       "      <td>22500.000000</td>\n",
       "      <td>22500</td>\n",
       "      <td>22500.000000</td>\n",
       "      <td>22500</td>\n",
       "      <td>22500.000000</td>\n",
       "      <td>22500</td>\n",
       "      <td>22500.000000</td>\n",
       "      <td>22500</td>\n",
       "    </tr>\n",
       "    <tr>\n",
       "      <th>unique</th>\n",
       "      <td>5836</td>\n",
       "      <td>NaN</td>\n",
       "      <td>22485</td>\n",
       "      <td>NaN</td>\n",
       "      <td>22500</td>\n",
       "      <td>NaN</td>\n",
       "      <td>22498</td>\n",
       "      <td>NaN</td>\n",
       "      <td>20371</td>\n",
       "    </tr>\n",
       "    <tr>\n",
       "      <th>top</th>\n",
       "      <td>GBTPC53ZrG1ZBY3DT8Mbcw</td>\n",
       "      <td>NaN</td>\n",
       "      <td>2016-03-07 01:32:03</td>\n",
       "      <td>NaN</td>\n",
       "      <td>J1pUbFc50BkXgOHDX3i1vw</td>\n",
       "      <td>NaN</td>\n",
       "      <td>I'm very displeased with my experience here th...</td>\n",
       "      <td>NaN</td>\n",
       "      <td>_BcWyKQL16ndpBdggh2kNA</td>\n",
       "    </tr>\n",
       "    <tr>\n",
       "      <th>freq</th>\n",
       "      <td>214</td>\n",
       "      <td>NaN</td>\n",
       "      <td>2</td>\n",
       "      <td>NaN</td>\n",
       "      <td>1</td>\n",
       "      <td>NaN</td>\n",
       "      <td>2</td>\n",
       "      <td>NaN</td>\n",
       "      <td>13</td>\n",
       "    </tr>\n",
       "    <tr>\n",
       "      <th>mean</th>\n",
       "      <td>NaN</td>\n",
       "      <td>0.340178</td>\n",
       "      <td>NaN</td>\n",
       "      <td>0.252444</td>\n",
       "      <td>NaN</td>\n",
       "      <td>3.853156</td>\n",
       "      <td>NaN</td>\n",
       "      <td>0.883644</td>\n",
       "      <td>NaN</td>\n",
       "    </tr>\n",
       "    <tr>\n",
       "      <th>std</th>\n",
       "      <td>NaN</td>\n",
       "      <td>1.053489</td>\n",
       "      <td>NaN</td>\n",
       "      <td>0.937965</td>\n",
       "      <td>NaN</td>\n",
       "      <td>1.347667</td>\n",
       "      <td>NaN</td>\n",
       "      <td>1.924198</td>\n",
       "      <td>NaN</td>\n",
       "    </tr>\n",
       "    <tr>\n",
       "      <th>min</th>\n",
       "      <td>NaN</td>\n",
       "      <td>0.000000</td>\n",
       "      <td>NaN</td>\n",
       "      <td>0.000000</td>\n",
       "      <td>NaN</td>\n",
       "      <td>1.000000</td>\n",
       "      <td>NaN</td>\n",
       "      <td>0.000000</td>\n",
       "      <td>NaN</td>\n",
       "    </tr>\n",
       "    <tr>\n",
       "      <th>25%</th>\n",
       "      <td>NaN</td>\n",
       "      <td>0.000000</td>\n",
       "      <td>NaN</td>\n",
       "      <td>0.000000</td>\n",
       "      <td>NaN</td>\n",
       "      <td>3.000000</td>\n",
       "      <td>NaN</td>\n",
       "      <td>0.000000</td>\n",
       "      <td>NaN</td>\n",
       "    </tr>\n",
       "    <tr>\n",
       "      <th>50%</th>\n",
       "      <td>NaN</td>\n",
       "      <td>0.000000</td>\n",
       "      <td>NaN</td>\n",
       "      <td>0.000000</td>\n",
       "      <td>NaN</td>\n",
       "      <td>4.000000</td>\n",
       "      <td>NaN</td>\n",
       "      <td>0.000000</td>\n",
       "      <td>NaN</td>\n",
       "    </tr>\n",
       "    <tr>\n",
       "      <th>75%</th>\n",
       "      <td>NaN</td>\n",
       "      <td>0.000000</td>\n",
       "      <td>NaN</td>\n",
       "      <td>0.000000</td>\n",
       "      <td>NaN</td>\n",
       "      <td>5.000000</td>\n",
       "      <td>NaN</td>\n",
       "      <td>1.000000</td>\n",
       "      <td>NaN</td>\n",
       "    </tr>\n",
       "    <tr>\n",
       "      <th>max</th>\n",
       "      <td>NaN</td>\n",
       "      <td>44.000000</td>\n",
       "      <td>NaN</td>\n",
       "      <td>26.000000</td>\n",
       "      <td>NaN</td>\n",
       "      <td>5.000000</td>\n",
       "      <td>NaN</td>\n",
       "      <td>91.000000</td>\n",
       "      <td>NaN</td>\n",
       "    </tr>\n",
       "  </tbody>\n",
       "</table>\n",
       "</div>"
      ],
      "text/plain": [
       "                   business_id  ...                 user_id\n",
       "count                    22500  ...                   22500\n",
       "unique                    5836  ...                   20371\n",
       "top     GBTPC53ZrG1ZBY3DT8Mbcw  ...  _BcWyKQL16ndpBdggh2kNA\n",
       "freq                       214  ...                      13\n",
       "mean                       NaN  ...                     NaN\n",
       "std                        NaN  ...                     NaN\n",
       "min                        NaN  ...                     NaN\n",
       "25%                        NaN  ...                     NaN\n",
       "50%                        NaN  ...                     NaN\n",
       "75%                        NaN  ...                     NaN\n",
       "max                        NaN  ...                     NaN\n",
       "\n",
       "[11 rows x 9 columns]"
      ]
     },
     "execution_count": 5,
     "metadata": {},
     "output_type": "execute_result"
    }
   ],
   "source": [
    "# SHAPE OF THE DATASET\n",
    "print(\"Shape of the dataset:\")\n",
    "print(review_df.shape)\n",
    "# COLUMN NAMES\n",
    "print(\"Column names:\")\n",
    "print(review_df.columns)\n",
    "# DATATYPE OF EACH COLUMN\n",
    "print(\"Datatype of each column:\")\n",
    "print(review_df.dtypes)\n",
    "# SEEING FEW OF THE ENTRIES\n",
    "print(\"Few dataset entries:\")\n",
    "print(review_df.head())\n",
    "# DATASET SUMMARY\n",
    "review_df.describe(include='all')"
   ]
  },
  {
   "cell_type": "code",
   "execution_count": 0,
   "metadata": {
    "application/vnd.databricks.v1+cell": {
     "cellMetadata": {
      "byteLimit": 2048000,
      "rowLimit": 10000
     },
     "inputWidgets": {},
     "nuid": "71511191-125d-4c29-9ef3-490a1a182ff3",
     "showTitle": false,
     "title": ""
    }
   },
   "outputs": [
    {
     "output_type": "execute_result",
     "data": {
      "text/html": [
       "<div>\n",
       "<style scoped>\n",
       "    .dataframe tbody tr th:only-of-type {\n",
       "        vertical-align: middle;\n",
       "    }\n",
       "\n",
       "    .dataframe tbody tr th {\n",
       "        vertical-align: top;\n",
       "    }\n",
       "\n",
       "    .dataframe thead th {\n",
       "        text-align: right;\n",
       "    }\n",
       "</style>\n",
       "<table border=\"1\" class=\"dataframe\">\n",
       "  <thead>\n",
       "    <tr style=\"text-align: right;\">\n",
       "      <th></th>\n",
       "      <th>business_id</th>\n",
       "      <th>cool</th>\n",
       "      <th>date</th>\n",
       "      <th>funny</th>\n",
       "      <th>review_id</th>\n",
       "      <th>stars</th>\n",
       "      <th>text</th>\n",
       "      <th>useful</th>\n",
       "      <th>user_id</th>\n",
       "      <th>length</th>\n",
       "    </tr>\n",
       "  </thead>\n",
       "  <tbody>\n",
       "    <tr>\n",
       "      <th>0</th>\n",
       "      <td>0l_njS4wGMadAk1b4nZRUA</td>\n",
       "      <td>0</td>\n",
       "      <td>2016-03-31 11:45:51</td>\n",
       "      <td>0</td>\n",
       "      <td>J1pUbFc50BkXgOHDX3i1vw</td>\n",
       "      <td>5.0</td>\n",
       "      <td>I pretty much never write a review but I have ...</td>\n",
       "      <td>0</td>\n",
       "      <td>KzZIsBoZvhgL70be88CfSQ</td>\n",
       "      <td>365</td>\n",
       "    </tr>\n",
       "    <tr>\n",
       "      <th>1</th>\n",
       "      <td>qhsJbgxVNDb0973r3Gjrow</td>\n",
       "      <td>1</td>\n",
       "      <td>2013-11-14 03:03:44</td>\n",
       "      <td>0</td>\n",
       "      <td>Zran1HOTZchIbOHAVaYXqQ</td>\n",
       "      <td>5.0</td>\n",
       "      <td>I really can't think of anything bad to say ab...</td>\n",
       "      <td>3</td>\n",
       "      <td>qOAYy-WGn54j7LyiqKU-OQ</td>\n",
       "      <td>1670</td>\n",
       "    </tr>\n",
       "    <tr>\n",
       "      <th>2</th>\n",
       "      <td>F87os-6oNyUAEeGxQJKFkw</td>\n",
       "      <td>0</td>\n",
       "      <td>2016-10-27 04:39:16</td>\n",
       "      <td>1</td>\n",
       "      <td>plYo9yNuPsO181zFfRAwFA</td>\n",
       "      <td>4.0</td>\n",
       "      <td>Worth a try.\\n\\nTwo of us went there for dinne...</td>\n",
       "      <td>2</td>\n",
       "      <td>3-MUKEqZtyEJ8iZK2B2kDw</td>\n",
       "      <td>640</td>\n",
       "    </tr>\n",
       "    <tr>\n",
       "      <th>3</th>\n",
       "      <td>WKF4p8kLDng4EECYC3RoeQ</td>\n",
       "      <td>0</td>\n",
       "      <td>2018-06-27 01:02:48</td>\n",
       "      <td>0</td>\n",
       "      <td>b63fKVpSmWoJDRpRQb8hcA</td>\n",
       "      <td>5.0</td>\n",
       "      <td>We had a gift card and came on a Tuesday night...</td>\n",
       "      <td>0</td>\n",
       "      <td>r6GXrPswAqNuPf6u4hkWwg</td>\n",
       "      <td>237</td>\n",
       "    </tr>\n",
       "    <tr>\n",
       "      <th>4</th>\n",
       "      <td>UCMSWPqzXjd7QHq7v8PJjQ</td>\n",
       "      <td>0</td>\n",
       "      <td>2017-09-09 19:52:02</td>\n",
       "      <td>0</td>\n",
       "      <td>w5Yw7JwKF4hj0gED7pFDsA</td>\n",
       "      <td>5.0</td>\n",
       "      <td>My favorite spot for brunch and lunch! Be prep...</td>\n",
       "      <td>0</td>\n",
       "      <td>azJSQWKdhUCsFELul6sVnQ</td>\n",
       "      <td>245</td>\n",
       "    </tr>\n",
       "  </tbody>\n",
       "</table>\n",
       "</div>"
      ],
      "text/plain": [
       "              business_id  cool  ...                 user_id  length\n",
       "0  0l_njS4wGMadAk1b4nZRUA     0  ...  KzZIsBoZvhgL70be88CfSQ     365\n",
       "1  qhsJbgxVNDb0973r3Gjrow     1  ...  qOAYy-WGn54j7LyiqKU-OQ    1670\n",
       "2  F87os-6oNyUAEeGxQJKFkw     0  ...  3-MUKEqZtyEJ8iZK2B2kDw     640\n",
       "3  WKF4p8kLDng4EECYC3RoeQ     0  ...  r6GXrPswAqNuPf6u4hkWwg     237\n",
       "4  UCMSWPqzXjd7QHq7v8PJjQ     0  ...  azJSQWKdhUCsFELul6sVnQ     245\n",
       "\n",
       "[5 rows x 10 columns]"
      ]
     },
     "execution_count": 6,
     "metadata": {},
     "output_type": "execute_result"
    }
   ],
   "source": [
    "# Filter out rows where 'text' is None\n",
    "review_df = review_df.dropna(subset=['text'])\n",
    "\n",
    "# CREATING A NEW COLUMN IN THE DATASET FOR THE NUMBER OF WORDS IN THE REVIEW\n",
    "review_df['length'] = review_df['text'].apply(len)\n",
    "\n",
    "# Print the first few rows of the updated DataFrame\n",
    "review_df.head()"
   ]
  },
  {
   "cell_type": "code",
   "execution_count": 0,
   "metadata": {
    "application/vnd.databricks.v1+cell": {
     "cellMetadata": {
      "byteLimit": 2048000,
      "rowLimit": 10000
     },
     "inputWidgets": {},
     "nuid": "b3da6dad-2bce-4c69-a65b-5f158d98162a",
     "showTitle": false,
     "title": ""
    }
   },
   "outputs": [
    {
     "output_type": "execute_result",
     "data": {
      "text/plain": [
       "<seaborn.axisgrid.FacetGrid at 0x7fcf710cf1c0>"
      ]
     },
     "execution_count": 7,
     "metadata": {},
     "output_type": "execute_result"
    },
    {
     "output_type": "display_data",
     "data": {
      "image/png": "[encoded data removed]",
      "text/plain": [
       "<Figure size 1500x300 with 5 Axes>"
      ]
     },
     "metadata": {},
     "output_type": "display_data"
    }
   ],
   "source": [
    "# COMPARING TEXT LENGTH TO STARS\n",
    "graph = sns.FacetGrid(data=review_df,col='stars')\n",
    "graph.map(plt.hist,'length',bins=50,color='blue')"
   ]
  },
  {
   "cell_type": "code",
   "execution_count": 0,
   "metadata": {
    "application/vnd.databricks.v1+cell": {
     "cellMetadata": {
      "byteLimit": 2048000,
      "rowLimit": 10000
     },
     "inputWidgets": {},
     "nuid": "e6d88c21-c3e8-4097-be30-3924a47fdcc7",
     "showTitle": false,
     "title": ""
    }
   },
   "outputs": [
    {
     "output_type": "execute_result",
     "data": {
      "text/html": [
       "<div>\n",
       "<style scoped>\n",
       "    .dataframe tbody tr th:only-of-type {\n",
       "        vertical-align: middle;\n",
       "    }\n",
       "\n",
       "    .dataframe tbody tr th {\n",
       "        vertical-align: top;\n",
       "    }\n",
       "\n",
       "    .dataframe thead th {\n",
       "        text-align: right;\n",
       "    }\n",
       "</style>\n",
       "<table border=\"1\" class=\"dataframe\">\n",
       "  <thead>\n",
       "    <tr style=\"text-align: right;\">\n",
       "      <th></th>\n",
       "      <th>cool</th>\n",
       "      <th>funny</th>\n",
       "      <th>useful</th>\n",
       "      <th>length</th>\n",
       "    </tr>\n",
       "    <tr>\n",
       "      <th>stars</th>\n",
       "      <th></th>\n",
       "      <th></th>\n",
       "      <th></th>\n",
       "      <th></th>\n",
       "    </tr>\n",
       "  </thead>\n",
       "  <tbody>\n",
       "    <tr>\n",
       "      <th>1.0</th>\n",
       "      <td>0.146645</td>\n",
       "      <td>0.461475</td>\n",
       "      <td>1.371168</td>\n",
       "      <td>698.643745</td>\n",
       "    </tr>\n",
       "    <tr>\n",
       "      <th>2.0</th>\n",
       "      <td>0.217317</td>\n",
       "      <td>0.377476</td>\n",
       "      <td>1.084890</td>\n",
       "      <td>676.516129</td>\n",
       "    </tr>\n",
       "    <tr>\n",
       "      <th>3.0</th>\n",
       "      <td>0.290437</td>\n",
       "      <td>0.283747</td>\n",
       "      <td>0.811098</td>\n",
       "      <td>638.056277</td>\n",
       "    </tr>\n",
       "    <tr>\n",
       "      <th>4.0</th>\n",
       "      <td>0.444059</td>\n",
       "      <td>0.254987</td>\n",
       "      <td>0.853426</td>\n",
       "      <td>564.514657</td>\n",
       "    </tr>\n",
       "    <tr>\n",
       "      <th>5.0</th>\n",
       "      <td>0.361330</td>\n",
       "      <td>0.170578</td>\n",
       "      <td>0.766404</td>\n",
       "      <td>455.007091</td>\n",
       "    </tr>\n",
       "  </tbody>\n",
       "</table>\n",
       "</div>"
      ],
      "text/plain": [
       "           cool     funny    useful      length\n",
       "stars                                          \n",
       "1.0    0.146645  0.461475  1.371168  698.643745\n",
       "2.0    0.217317  0.377476  1.084890  676.516129\n",
       "3.0    0.290437  0.283747  0.811098  638.056277\n",
       "4.0    0.444059  0.254987  0.853426  564.514657\n",
       "5.0    0.361330  0.170578  0.766404  455.007091"
      ]
     },
     "execution_count": 8,
     "metadata": {},
     "output_type": "execute_result"
    }
   ],
   "source": [
    "# GETTING THE MEAN VALUES OF THE VOTE COLUMNS WRT THE STARS ON THE REVIEW\n",
    "stval = review_df.groupby('stars').mean()\n",
    "stval"
   ]
  },
  {
   "cell_type": "code",
   "execution_count": 0,
   "metadata": {
    "application/vnd.databricks.v1+cell": {
     "cellMetadata": {
      "byteLimit": 2048000,
      "rowLimit": 10000
     },
     "inputWidgets": {},
     "nuid": "2a991547-7cbe-4aeb-b74b-68ef673e5398",
     "showTitle": false,
     "title": ""
    }
   },
   "outputs": [
    {
     "output_type": "execute_result",
     "data": {
      "text/html": [
       "<div>\n",
       "<style scoped>\n",
       "    .dataframe tbody tr th:only-of-type {\n",
       "        vertical-align: middle;\n",
       "    }\n",
       "\n",
       "    .dataframe tbody tr th {\n",
       "        vertical-align: top;\n",
       "    }\n",
       "\n",
       "    .dataframe thead th {\n",
       "        text-align: right;\n",
       "    }\n",
       "</style>\n",
       "<table border=\"1\" class=\"dataframe\">\n",
       "  <thead>\n",
       "    <tr style=\"text-align: right;\">\n",
       "      <th></th>\n",
       "      <th>cool</th>\n",
       "      <th>funny</th>\n",
       "      <th>useful</th>\n",
       "      <th>length</th>\n",
       "    </tr>\n",
       "  </thead>\n",
       "  <tbody>\n",
       "    <tr>\n",
       "      <th>cool</th>\n",
       "      <td>1.000000</td>\n",
       "      <td>-0.856313</td>\n",
       "      <td>-0.835747</td>\n",
       "      <td>-0.769331</td>\n",
       "    </tr>\n",
       "    <tr>\n",
       "      <th>funny</th>\n",
       "      <td>-0.856313</td>\n",
       "      <td>1.000000</td>\n",
       "      <td>0.947495</td>\n",
       "      <td>0.927679</td>\n",
       "    </tr>\n",
       "    <tr>\n",
       "      <th>useful</th>\n",
       "      <td>-0.835747</td>\n",
       "      <td>0.947495</td>\n",
       "      <td>1.000000</td>\n",
       "      <td>0.759679</td>\n",
       "    </tr>\n",
       "    <tr>\n",
       "      <th>length</th>\n",
       "      <td>-0.769331</td>\n",
       "      <td>0.927679</td>\n",
       "      <td>0.759679</td>\n",
       "      <td>1.000000</td>\n",
       "    </tr>\n",
       "  </tbody>\n",
       "</table>\n",
       "</div>"
      ],
      "text/plain": [
       "            cool     funny    useful    length\n",
       "cool    1.000000 -0.856313 -0.835747 -0.769331\n",
       "funny  -0.856313  1.000000  0.947495  0.927679\n",
       "useful -0.835747  0.947495  1.000000  0.759679\n",
       "length -0.769331  0.927679  0.759679  1.000000"
      ]
     },
     "execution_count": 9,
     "metadata": {},
     "output_type": "execute_result"
    }
   ],
   "source": [
    "# FINDING THE CORRELATION BETWEEN THE VOTE COLUMNS\n",
    "stval.corr()"
   ]
  },
  {
   "cell_type": "code",
   "execution_count": 0,
   "metadata": {
    "application/vnd.databricks.v1+cell": {
     "cellMetadata": {
      "byteLimit": 2048000,
      "rowLimit": 10000
     },
     "inputWidgets": {},
     "nuid": "695ea8f8-4ae0-403f-a39f-0cdc487617d5",
     "showTitle": false,
     "title": ""
    }
   },
   "outputs": [
    {
     "output_type": "stream",
     "name": "stdout",
     "output_type": "stream",
     "text": [
      "(14968, 10)\n"
     ]
    },
    {
     "output_type": "execute_result",
     "data": {
      "text/html": [
       "<div>\n",
       "<style scoped>\n",
       "    .dataframe tbody tr th:only-of-type {\n",
       "        vertical-align: middle;\n",
       "    }\n",
       "\n",
       "    .dataframe tbody tr th {\n",
       "        vertical-align: top;\n",
       "    }\n",
       "\n",
       "    .dataframe thead th {\n",
       "        text-align: right;\n",
       "    }\n",
       "</style>\n",
       "<table border=\"1\" class=\"dataframe\">\n",
       "  <thead>\n",
       "    <tr style=\"text-align: right;\">\n",
       "      <th></th>\n",
       "      <th>business_id</th>\n",
       "      <th>cool</th>\n",
       "      <th>date</th>\n",
       "      <th>funny</th>\n",
       "      <th>review_id</th>\n",
       "      <th>stars</th>\n",
       "      <th>text</th>\n",
       "      <th>useful</th>\n",
       "      <th>user_id</th>\n",
       "      <th>length</th>\n",
       "    </tr>\n",
       "  </thead>\n",
       "  <tbody>\n",
       "    <tr>\n",
       "      <th>0</th>\n",
       "      <td>0l_njS4wGMadAk1b4nZRUA</td>\n",
       "      <td>0</td>\n",
       "      <td>2016-03-31 11:45:51</td>\n",
       "      <td>0</td>\n",
       "      <td>J1pUbFc50BkXgOHDX3i1vw</td>\n",
       "      <td>5.0</td>\n",
       "      <td>I pretty much never write a review but I have ...</td>\n",
       "      <td>0</td>\n",
       "      <td>KzZIsBoZvhgL70be88CfSQ</td>\n",
       "      <td>365</td>\n",
       "    </tr>\n",
       "    <tr>\n",
       "      <th>1</th>\n",
       "      <td>qhsJbgxVNDb0973r3Gjrow</td>\n",
       "      <td>1</td>\n",
       "      <td>2013-11-14 03:03:44</td>\n",
       "      <td>0</td>\n",
       "      <td>Zran1HOTZchIbOHAVaYXqQ</td>\n",
       "      <td>5.0</td>\n",
       "      <td>I really can't think of anything bad to say ab...</td>\n",
       "      <td>3</td>\n",
       "      <td>qOAYy-WGn54j7LyiqKU-OQ</td>\n",
       "      <td>1670</td>\n",
       "    </tr>\n",
       "    <tr>\n",
       "      <th>3</th>\n",
       "      <td>WKF4p8kLDng4EECYC3RoeQ</td>\n",
       "      <td>0</td>\n",
       "      <td>2018-06-27 01:02:48</td>\n",
       "      <td>0</td>\n",
       "      <td>b63fKVpSmWoJDRpRQb8hcA</td>\n",
       "      <td>5.0</td>\n",
       "      <td>We had a gift card and came on a Tuesday night...</td>\n",
       "      <td>0</td>\n",
       "      <td>r6GXrPswAqNuPf6u4hkWwg</td>\n",
       "      <td>237</td>\n",
       "    </tr>\n",
       "    <tr>\n",
       "      <th>4</th>\n",
       "      <td>UCMSWPqzXjd7QHq7v8PJjQ</td>\n",
       "      <td>0</td>\n",
       "      <td>2017-09-09 19:52:02</td>\n",
       "      <td>0</td>\n",
       "      <td>w5Yw7JwKF4hj0gED7pFDsA</td>\n",
       "      <td>5.0</td>\n",
       "      <td>My favorite spot for brunch and lunch! Be prep...</td>\n",
       "      <td>0</td>\n",
       "      <td>azJSQWKdhUCsFELul6sVnQ</td>\n",
       "      <td>245</td>\n",
       "    </tr>\n",
       "    <tr>\n",
       "      <th>5</th>\n",
       "      <td>pym7c6ZFEtmoH16xN2ApBg</td>\n",
       "      <td>0</td>\n",
       "      <td>2013-10-03 22:45:27</td>\n",
       "      <td>1</td>\n",
       "      <td>lVrDdmBYZwyfoEhsnNGyzA</td>\n",
       "      <td>5.0</td>\n",
       "      <td>I wish I'd checked into this place to prove my...</td>\n",
       "      <td>1</td>\n",
       "      <td>UgwrOTJyTYkOnKWNejGaUg</td>\n",
       "      <td>482</td>\n",
       "    </tr>\n",
       "  </tbody>\n",
       "</table>\n",
       "</div>"
      ],
      "text/plain": [
       "              business_id  cool  ...                 user_id  length\n",
       "0  0l_njS4wGMadAk1b4nZRUA     0  ...  KzZIsBoZvhgL70be88CfSQ     365\n",
       "1  qhsJbgxVNDb0973r3Gjrow     1  ...  qOAYy-WGn54j7LyiqKU-OQ    1670\n",
       "3  WKF4p8kLDng4EECYC3RoeQ     0  ...  r6GXrPswAqNuPf6u4hkWwg     237\n",
       "4  UCMSWPqzXjd7QHq7v8PJjQ     0  ...  azJSQWKdhUCsFELul6sVnQ     245\n",
       "5  pym7c6ZFEtmoH16xN2ApBg     0  ...  UgwrOTJyTYkOnKWNejGaUg     482\n",
       "\n",
       "[5 rows x 10 columns]"
      ]
     },
     "execution_count": 10,
     "metadata": {},
     "output_type": "execute_result"
    }
   ],
   "source": [
    "# CLASSIFICATION\n",
    "data_classes = review_df[(review_df['stars']==1) | (review_df['stars']==3) | (review_df['stars']==5)]\n",
    "print(data_classes.shape)\n",
    "data_classes.head()"
   ]
  },
  {
   "cell_type": "code",
   "execution_count": 0,
   "metadata": {
    "application/vnd.databricks.v1+cell": {
     "cellMetadata": {
      "byteLimit": 2048000,
      "rowLimit": 10000
     },
     "inputWidgets": {},
     "nuid": "8f69d540-c42e-434d-b1a7-07081bd6c4a3",
     "showTitle": false,
     "title": ""
    }
   },
   "outputs": [
    {
     "output_type": "stream",
     "name": "stdout",
     "output_type": "stream",
     "text": [
      "0    I pretty much never write a review but I have ...\n1    I really can't think of anything bad to say ab...\n3    We had a gift card and came on a Tuesday night...\n4    My favorite spot for brunch and lunch! Be prep...\n5    I wish I'd checked into this place to prove my...\nName: text, dtype: object\n0    5.0\n1    5.0\n3    5.0\n4    5.0\n5    5.0\nName: stars, dtype: float64\n"
     ]
    }
   ],
   "source": [
    "# Seperate the dataset into X and Y for prediction\n",
    "x = data_classes['text']\n",
    "y = data_classes['stars']\n",
    "print(x.head())\n",
    "print(y.head())"
   ]
  },
  {
   "cell_type": "code",
   "execution_count": 0,
   "metadata": {
    "application/vnd.databricks.v1+cell": {
     "cellMetadata": {
      "byteLimit": 2048000,
      "rowLimit": 10000
     },
     "inputWidgets": {},
     "nuid": "1f1fa7f0-e1ef-478e-8109-2584980c605a",
     "showTitle": false,
     "title": ""
    }
   },
   "outputs": [
    {
     "output_type": "stream",
     "name": "stderr",
     "output_type": "stream",
     "text": [
      "[nltk_data] Downloading package stopwords to /root/nltk_data...\n[nltk_data]   Package stopwords is already up-to-date!\n"
     ]
    },
    {
     "output_type": "execute_result",
     "data": {
      "text/plain": [
       "True"
      ]
     },
     "execution_count": 12,
     "metadata": {},
     "output_type": "execute_result"
    }
   ],
   "source": [
    "nltk.download('stopwords')"
   ]
  },
  {
   "cell_type": "code",
   "execution_count": 0,
   "metadata": {
    "application/vnd.databricks.v1+cell": {
     "cellMetadata": {
      "byteLimit": 2048000,
      "rowLimit": 10000
     },
     "inputWidgets": {},
     "nuid": "b1ff04ab-f1a2-45ce-869b-614a8abc13cc",
     "showTitle": false,
     "title": ""
    }
   },
   "outputs": [],
   "source": [
    "# CLEANING THE REVIEWS - REMOVAL OF STOPWORDS AND PUNCTUATION\n",
    "stopwords = stopwords.words('english')\n",
    "def text_process(text):\n",
    "    nopunc = [char for char in text if char not in string.punctuation]\n",
    "    nopunc = ''.join(nopunc)\n",
    "    return [word for word in nopunc.split() if word.lower() not in stopwords]"
   ]
  },
  {
   "cell_type": "code",
   "execution_count": 0,
   "metadata": {
    "application/vnd.databricks.v1+cell": {
     "cellMetadata": {
      "byteLimit": 2048000,
      "rowLimit": 10000
     },
     "inputWidgets": {},
     "nuid": "d47c6ea5-f993-4635-a514-efaed248ad5b",
     "showTitle": false,
     "title": ""
    }
   },
   "outputs": [
    {
     "output_type": "stream",
     "name": "stdout",
     "output_type": "stream",
     "text": [
      "42623\nI pretty much never write a review but I have been using this Panera for almost two years now. Not consistently but a couple times a month and the staff/service is always excellent. Everything is always fresh and my order is correct. They do a great job making a large company feel like a mom and pop shop. Not to mention Panera has the absolutely best bagels ever.\n  (0, 5529)\t1\n  (0, 10779)\t2\n  (0, 15683)\t1\n  (0, 16227)\t1\n  (0, 16268)\t2\n  (0, 17182)\t1\n  (0, 17690)\t1\n  (0, 20315)\t1\n  (0, 20578)\t1\n  (0, 20813)\t1\n  (0, 20910)\t1\n  (0, 23683)\t1\n  (0, 23758)\t1\n  (0, 24282)\t1\n  (0, 25097)\t1\n  (0, 25978)\t1\n  (0, 28291)\t1\n  (0, 28764)\t1\n  (0, 29080)\t1\n  (0, 29597)\t1\n  (0, 30093)\t1\n  (0, 30569)\t1\n  (0, 30620)\t1\n  (0, 30768)\t1\n  (0, 31122)\t1\n  (0, 31910)\t1\n  (0, 33467)\t1\n  (0, 33826)\t1\n  (0, 35444)\t1\n  (0, 36875)\t1\n  (0, 38116)\t1\n  (0, 39811)\t1\n  (0, 40516)\t1\n  (0, 41058)\t1\n  (0, 42344)\t1\n  (0, 42436)\t1\nGetting the words back:\nchimichangas\nPLAGUE\n"
     ]
    },
    {
     "output_type": "stream",
     "name": "stderr",
     "output_type": "stream",
     "text": [
      "/databricks/python/lib/python3.10/site-packages/sklearn/utils/deprecation.py:87: FutureWarning: Function get_feature_names is deprecated; get_feature_names is deprecated in 1.0 and will be removed in 1.2. Please use get_feature_names_out instead.\n  warnings.warn(msg, category=FutureWarning)\n"
     ]
    }
   ],
   "source": [
    "# CONVERTING THE WORDS INTO A VECTOR\n",
    "\n",
    "vocab = CountVectorizer(analyzer=text_process).fit(x)\n",
    "print(len(vocab.vocabulary_))\n",
    "r0 = x[0]\n",
    "print(r0)\n",
    "vocab0 = vocab.transform([r0])\n",
    "print(vocab0)\n",
    "\"\"\"\n",
    "    Now the words in the review number 78 have been converted into a vector.\n",
    "    The data that we can see is the transformed words.\n",
    "    If we now get the feature's name - we can get the word back!\n",
    "\"\"\"\n",
    "print(\"Getting the words back:\")\n",
    "print(vocab.get_feature_names()[19648])\n",
    "print(vocab.get_feature_names()[10643])"
   ]
  },
  {
   "cell_type": "code",
   "execution_count": 0,
   "metadata": {
    "application/vnd.databricks.v1+cell": {
     "cellMetadata": {
      "byteLimit": 2048000,
      "rowLimit": 10000
     },
     "inputWidgets": {},
     "nuid": "b85149da-7388-4f78-9f75-d8389ae9c50a",
     "showTitle": false,
     "title": ""
    }
   },
   "outputs": [
    {
     "output_type": "stream",
     "name": "stdout",
     "output_type": "stream",
     "text": [
      "Shape of the sparse matrix:  (14968, 42623)\nNon-Zero occurences:  653760\nDensity of the matrix =  0.10247326086781786\n"
     ]
    }
   ],
   "source": [
    "x = vocab.transform(x)\n",
    "#Shape of the matrix:\n",
    "print(\"Shape of the sparse matrix: \", x.shape)\n",
    "#Non-zero occurences:\n",
    "print(\"Non-Zero occurences: \",x.nnz)\n",
    "\n",
    "# DENSITY OF THE MATRIX\n",
    "density = (x.nnz/(x.shape[0]*x.shape[1]))*100\n",
    "print(\"Density of the matrix = \",density)"
   ]
  },
  {
   "cell_type": "code",
   "execution_count": 0,
   "metadata": {
    "application/vnd.databricks.v1+cell": {
     "cellMetadata": {
      "byteLimit": 2048000,
      "rowLimit": 10000
     },
     "inputWidgets": {},
     "nuid": "0665c6ff-5416-475f-9806-2189250eb74e",
     "showTitle": false,
     "title": ""
    }
   },
   "outputs": [
    {
     "output_type": "stream",
     "name": "stdout",
     "output_type": "stream",
     "text": [
      "  (0, 6620)\t1\n  (0, 16567)\t1\n  (0, 17150)\t1\n  (0, 18598)\t1\n  (0, 18663)\t3\n  (0, 18670)\t1\n  (0, 19358)\t1\n  (0, 23161)\t1\n  (0, 24498)\t1\n  (0, 25147)\t1\n  (0, 25276)\t1\n  (0, 25370)\t1\n  (0, 25709)\t1\n  (0, 27025)\t1\n  (0, 29348)\t1\n  (0, 29526)\t1\n  (0, 30100)\t1\n  (0, 31193)\t1\n  (0, 31726)\t1\n  (0, 31910)\t1\n  (0, 32536)\t1\n  (0, 33385)\t1\n  (0, 37016)\t1\n  (0, 37995)\t1\n  (0, 38750)\t1\n  :\t:\n  (4, 23194)\t1\n  (4, 24731)\t1\n  (4, 25194)\t1\n  (4, 25224)\t1\n  (4, 25564)\t1\n  (4, 25709)\t1\n  (4, 25767)\t1\n  (4, 25842)\t1\n  (4, 26373)\t1\n  (4, 27094)\t1\n  (4, 27235)\t1\n  (4, 27494)\t1\n  (4, 28083)\t1\n  (4, 28843)\t1\n  (4, 29296)\t1\n  (4, 29928)\t1\n  (4, 31387)\t1\n  (4, 31769)\t2\n  (4, 32555)\t1\n  (4, 32622)\t1\n  (4, 33931)\t1\n  (4, 35711)\t2\n  (4, 36917)\t1\n  (4, 36953)\t1\n  (4, 38512)\t1\n  (0, 15870)\t1\n  (0, 16268)\t1\n  (0, 16828)\t1\n  (0, 19129)\t1\n  (0, 20095)\t2\n  (0, 20561)\t1\n  (0, 21052)\t1\n  (0, 21534)\t1\n  (0, 22521)\t1\n  (0, 23194)\t1\n  (0, 23903)\t1\n  (0, 25097)\t2\n  (0, 25136)\t1\n  (0, 25719)\t1\n  (0, 26394)\t1\n  (0, 27157)\t1\n  (0, 27428)\t1\n  (0, 28094)\t1\n  (0, 29080)\t2\n  (0, 29426)\t1\n  (0, 29632)\t1\n  (0, 30286)\t4\n  (0, 31080)\t1\n  (0, 31160)\t1\n  (0, 31590)\t1\n  :\t:\n  (4, 36129)\t1\n  (4, 37121)\t1\n  (4, 37180)\t1\n  (4, 37630)\t1\n  (4, 37640)\t1\n  (4, 37641)\t1\n  (4, 38080)\t1\n  (4, 38102)\t1\n  (4, 38174)\t1\n  (4, 38379)\t1\n  (4, 38697)\t1\n  (4, 39242)\t2\n  (4, 39470)\t1\n  (4, 39528)\t1\n  (4, 39623)\t1\n  (4, 39634)\t2\n  (4, 39797)\t1\n  (4, 40388)\t1\n  (4, 41599)\t1\n  (4, 41674)\t1\n  (4, 41889)\t1\n  (4, 42159)\t1\n  (4, 42295)\t1\n  (4, 42300)\t1\n  (4, 42351)\t1\n10349    5.0\n13065    5.0\n469      5.0\n4998     5.0\n11883    3.0\nName: stars, dtype: float64\n6959     3.0\n6169     3.0\n16751    5.0\n13391    3.0\n19289    1.0\nName: stars, dtype: float64\n(11974, 42623)\n(2994, 42623)\n(11974,)\n(2994,)\n"
     ]
    }
   ],
   "source": [
    "# SPLITTING THE DATASET INTO TRAINING SET AND TESTING SET\n",
    "x_train, x_test, y_train, y_test = train_test_split(x, y, test_size=0.2, random_state=101)\n",
    "\n",
    "# Print the first 5 rows of each matrix\n",
    "print(x_train[:5])\n",
    "print(x_test[:5])\n",
    "print(y_train[:5])\n",
    "print(y_test[:5])\n",
    "\n",
    "print(x_train.shape)\n",
    "print(x_test.shape)\n",
    "print(y_train.shape)\n",
    "print(y_test.shape)"
   ]
  },
  {
   "cell_type": "code",
   "execution_count": 0,
   "metadata": {
    "application/vnd.databricks.v1+cell": {
     "cellMetadata": {
      "byteLimit": 2048000,
      "rowLimit": 10000
     },
     "inputWidgets": {},
     "nuid": "66efaf31-6704-4b4f-8f88-5db6b84a0c3d",
     "showTitle": false,
     "title": ""
    }
   },
   "outputs": [
    {
     "output_type": "stream",
     "name": "stdout",
     "output_type": "stream",
     "text": [
      "Confusion Matrix for Multinomial Naive Bayes:\n[[ 387   89   33]\n [  46  234  201]\n [  58   53 1893]]\nScore: 83.97\nClassification Report:               precision    recall  f1-score   support\n\n         1.0       0.79      0.76      0.77       509\n         3.0       0.62      0.49      0.55       481\n         5.0       0.89      0.94      0.92      2004\n\n    accuracy                           0.84      2994\n   macro avg       0.77      0.73      0.75      2994\nweighted avg       0.83      0.84      0.83      2994\n\n"
     ]
    }
   ],
   "source": [
    "# Multinomial Naive Bayes\n",
    "from sklearn.naive_bayes import MultinomialNB\n",
    "mnb = MultinomialNB()\n",
    "mnb.fit(x_train,y_train)\n",
    "predmnb = mnb.predict(x_test)\n",
    "print(\"Confusion Matrix for Multinomial Naive Bayes:\")\n",
    "print(confusion_matrix(y_test,predmnb))\n",
    "print(\"Score:\",round(accuracy_score(y_test,predmnb)*100,2))\n",
    "print(\"Classification Report:\",classification_report(y_test,predmnb))"
   ]
  },
  {
   "cell_type": "code",
   "execution_count": 0,
   "metadata": {
    "application/vnd.databricks.v1+cell": {
     "cellMetadata": {
      "byteLimit": 2048000,
      "rowLimit": 10000
     },
     "inputWidgets": {},
     "nuid": "3f12940a-7dc2-4151-80fc-6ffc42df0a42",
     "showTitle": false,
     "title": ""
    }
   },
   "outputs": [
    {
     "output_type": "stream",
     "name": "stdout",
     "output_type": "stream",
     "text": [
      "Confusion Matrix for Random Forest Classifier:\n[[ 261   25  223]\n [  20   59  402]\n [   6    7 1991]]\nScore: 77.19\nClassification Report:               precision    recall  f1-score   support\n\n         1.0       0.91      0.51      0.66       509\n         3.0       0.65      0.12      0.21       481\n         5.0       0.76      0.99      0.86      2004\n\n    accuracy                           0.77      2994\n   macro avg       0.77      0.54      0.57      2994\nweighted avg       0.77      0.77      0.72      2994\n\n"
     ]
    }
   ],
   "source": [
    "# Random Forest\n",
    "from sklearn.ensemble import RandomForestClassifier\n",
    "rmfr = RandomForestClassifier()\n",
    "rmfr.fit(x_train,y_train)\n",
    "predrmfr = rmfr.predict(x_test)\n",
    "print(\"Confusion Matrix for Random Forest Classifier:\")\n",
    "print(confusion_matrix(y_test,predrmfr))\n",
    "print(\"Score:\",round(accuracy_score(y_test,predrmfr)*100,2))\n",
    "print(\"Classification Report:\",classification_report(y_test,predrmfr))"
   ]
  },
  {
   "cell_type": "code",
   "execution_count": 0,
   "metadata": {
    "application/vnd.databricks.v1+cell": {
     "cellMetadata": {
      "byteLimit": 2048000,
      "rowLimit": 10000
     },
     "inputWidgets": {},
     "nuid": "e869710e-745b-49b4-831c-7154c274c75f",
     "showTitle": false,
     "title": ""
    }
   },
   "outputs": [
    {
     "output_type": "stream",
     "name": "stdout",
     "output_type": "stream",
     "text": [
      "Confusion Matrix for Decision Tree:\n[[ 291   84  134]\n [  83  174  224]\n [ 116  175 1713]]\nScore: 72.75\nClassification Report:               precision    recall  f1-score   support\n\n         1.0       0.59      0.57      0.58       509\n         3.0       0.40      0.36      0.38       481\n         5.0       0.83      0.85      0.84      2004\n\n    accuracy                           0.73      2994\n   macro avg       0.61      0.60      0.60      2994\nweighted avg       0.72      0.73      0.72      2994\n\n"
     ]
    }
   ],
   "source": [
    "# Decision Tree\n",
    "from sklearn.tree import DecisionTreeClassifier\n",
    "dt = DecisionTreeClassifier()\n",
    "dt.fit(x_train,y_train)\n",
    "preddt = dt.predict(x_test)\n",
    "print(\"Confusion Matrix for Decision Tree:\")\n",
    "print(confusion_matrix(y_test,preddt))\n",
    "print(\"Score:\",round(accuracy_score(y_test,preddt)*100,2))\n",
    "print(\"Classification Report:\",classification_report(y_test,preddt))"
   ]
  },
  {
   "cell_type": "code",
   "execution_count": 0,
   "metadata": {
    "application/vnd.databricks.v1+cell": {
     "cellMetadata": {
      "byteLimit": 2048000,
      "rowLimit": 10000
     },
     "inputWidgets": {},
     "nuid": "0d8026c7-9b87-404c-906b-1ed287750dee",
     "showTitle": false,
     "title": ""
    }
   },
   "outputs": [
    {
     "output_type": "stream",
     "name": "stdout",
     "output_type": "stream",
     "text": [
      "Confusion Matrix for Support Vector Machines:\n[[ 327   39  143]\n [  27  188  266]\n [  16   35 1953]]\nScore: 82.43\nClassification Report:               precision    recall  f1-score   support\n\n         1.0       0.88      0.64      0.74       509\n         3.0       0.72      0.39      0.51       481\n         5.0       0.83      0.97      0.89      2004\n\n    accuracy                           0.82      2994\n   macro avg       0.81      0.67      0.71      2994\nweighted avg       0.82      0.82      0.81      2994\n\n"
     ]
    }
   ],
   "source": [
    "# Support Vector Machine\n",
    "from sklearn.svm import SVC\n",
    "svm = SVC(random_state=101)\n",
    "svm.fit(x_train,y_train)\n",
    "predsvm = svm.predict(x_test)\n",
    "print(\"Confusion Matrix for Support Vector Machines:\")\n",
    "print(confusion_matrix(y_test,predsvm))\n",
    "print(\"Score:\",round(accuracy_score(y_test,predsvm)*100,2))\n",
    "print(\"Classification Report:\",classification_report(y_test,predsvm))"
   ]
  },
  {
   "cell_type": "code",
   "execution_count": 0,
   "metadata": {
    "application/vnd.databricks.v1+cell": {
     "cellMetadata": {
      "byteLimit": 2048000,
      "rowLimit": 10000
     },
     "inputWidgets": {},
     "nuid": "1dd5b303-923e-4ed4-971d-27d5a8049484",
     "showTitle": false,
     "title": ""
    }
   },
   "outputs": [
    {
     "output_type": "stream",
     "name": "stdout",
     "output_type": "stream",
     "text": [
      "Confusion Matrix for Gradient Boosting Classifier:\n[[ 310   56  143]\n [  31  175  275]\n [  11   41 1952]]\nScore: 81.4\nClassification Report:               precision    recall  f1-score   support\n\n         1.0       0.88      0.61      0.72       509\n         3.0       0.64      0.36      0.46       481\n         5.0       0.82      0.97      0.89      2004\n\n    accuracy                           0.81      2994\n   macro avg       0.78      0.65      0.69      2994\nweighted avg       0.80      0.81      0.79      2994\n\n"
     ]
    }
   ],
   "source": [
    "from sklearn.ensemble import GradientBoostingClassifier\n",
    "\"\"\"# parameter evaluation\n",
    "gbe = GradientBoostingClassifier(random_state=0)\n",
    "parameters = {\n",
    "     'learning_rate': [0.05, 0.1, 0.5],\n",
    "    'max_features': [0.5, 1],\n",
    "    'max_depth': [3, 4, 5]}\n",
    "gridsearch=GridSearchCV(gbe,parameters,cv=100,scoring='roc_auc')\n",
    "gridsearch.fit(x,y)\n",
    "print(gridsearch.best_params_)\n",
    "print(gridsearch.best_score_)\"\"\"\n",
    "#Boosting\n",
    "gbi = GradientBoostingClassifier(learning_rate=0.1,max_depth=5,max_features=0.5,random_state=999999)\n",
    "gbi.fit(x_train,y_train)\n",
    "predgbi = gbi.predict(x_test)\n",
    "print(\"Confusion Matrix for Gradient Boosting Classifier:\")\n",
    "print(confusion_matrix(y_test,predgbi))\n",
    "print(\"Score:\",round(accuracy_score(y_test,predgbi)*100,2))\n",
    "print(\"Classification Report:\",classification_report(y_test,predgbi))"
   ]
  },
  {
   "cell_type": "code",
   "execution_count": 0,
   "metadata": {
    "application/vnd.databricks.v1+cell": {
     "cellMetadata": {
      "byteLimit": 2048000,
      "rowLimit": 10000
     },
     "inputWidgets": {},
     "nuid": "f88b4ad5-79a8-4529-a18e-32ddcc8b5e43",
     "showTitle": false,
     "title": ""
    }
   },
   "outputs": [
    {
     "output_type": "stream",
     "name": "stderr",
     "output_type": "stream",
     "text": [
      "/databricks/python/lib/python3.10/site-packages/sklearn/neighbors/_classification.py:237: FutureWarning: Unlike other reduction functions (e.g. `skew`, `kurtosis`), the default behavior of `mode` typically preserves the axis it acts along. In SciPy 1.11.0, this behavior will change: the default value of `keepdims` will become False, the `axis` over which the statistic is taken will be eliminated, and the value None will no longer be accepted. Set `keepdims` to True or False to avoid this warning.\n  mode, _ = stats.mode(_y[neigh_ind, k], axis=1)\n/databricks/python/lib/python3.10/site-packages/sklearn/neighbors/_classification.py:237: FutureWarning: Unlike other reduction functions (e.g. `skew`, `kurtosis`), the default behavior of `mode` typically preserves the axis it acts along. In SciPy 1.11.0, this behavior will change: the default value of `keepdims` will become False, the `axis` over which the statistic is taken will be eliminated, and the value None will no longer be accepted. Set `keepdims` to True or False to avoid this warning.\n  mode, _ = stats.mode(_y[neigh_ind, k], axis=1)\n/databricks/python/lib/python3.10/site-packages/sklearn/neighbors/_classification.py:237: FutureWarning: Unlike other reduction functions (e.g. `skew`, `kurtosis`), the default behavior of `mode` typically preserves the axis it acts along. In SciPy 1.11.0, this behavior will change: the default value of `keepdims` will become False, the `axis` over which the statistic is taken will be eliminated, and the value None will no longer be accepted. Set `keepdims` to True or False to avoid this warning.\n  mode, _ = stats.mode(_y[neigh_ind, k], axis=1)\n/databricks/python/lib/python3.10/site-packages/sklearn/neighbors/_classification.py:237: FutureWarning: Unlike other reduction functions (e.g. `skew`, `kurtosis`), the default behavior of `mode` typically preserves the axis it acts along. In SciPy 1.11.0, this behavior will change: the default value of `keepdims` will become False, the `axis` over which the statistic is taken will be eliminated, and the value None will no longer be accepted. Set `keepdims` to True or False to avoid this warning.\n  mode, _ = stats.mode(_y[neigh_ind, k], axis=1)\n/databricks/python/lib/python3.10/site-packages/sklearn/neighbors/_classification.py:237: FutureWarning: Unlike other reduction functions (e.g. `skew`, `kurtosis`), the default behavior of `mode` typically preserves the axis it acts along. In SciPy 1.11.0, this behavior will change: the default value of `keepdims` will become False, the `axis` over which the statistic is taken will be eliminated, and the value None will no longer be accepted. Set `keepdims` to True or False to avoid this warning.\n  mode, _ = stats.mode(_y[neigh_ind, k], axis=1)\n"
     ]
    },
    {
     "output_type": "stream",
     "name": "stdout",
     "output_type": "stream",
     "text": [
      "Confusion Matrix for K Neighbors Classifier:\n[[  77   12  420]\n [   2   16  463]\n [   1    4 1999]]\nScore:  69.87\nClassification Report:\n              precision    recall  f1-score   support\n\n         1.0       0.96      0.15      0.26       509\n         3.0       0.50      0.03      0.06       481\n         5.0       0.69      1.00      0.82      2004\n\n    accuracy                           0.70      2994\n   macro avg       0.72      0.39      0.38      2994\nweighted avg       0.71      0.70      0.60      2994\n\n"
     ]
    }
   ],
   "source": [
    "# K Nearest Neighbour Algorithm\n",
    "import warnings\n",
    "from sklearn.neighbors import KNeighborsClassifier\n",
    "\n",
    "# Ignore the warning\n",
    "warnings.filterwarnings(\"ignore\", message=\"FutureWarning: .*keepdims.*\")\n",
    "\n",
    "knn = KNeighborsClassifier(n_neighbors=10)\n",
    "knn.fit(x_train,y_train)\n",
    "predknn = knn.predict(x_test)\n",
    "print(\"Confusion Matrix for K Neighbors Classifier:\")\n",
    "print(confusion_matrix(y_test,predknn))\n",
    "print(\"Score: \",round(accuracy_score(y_test,predknn)*100,2))\n",
    "print(\"Classification Report:\")\n",
    "print(classification_report(y_test,predknn))"
   ]
  },
  {
   "cell_type": "code",
   "execution_count": 0,
   "metadata": {
    "application/vnd.databricks.v1+cell": {
     "cellMetadata": {
      "byteLimit": 2048000,
      "rowLimit": 10000
     },
     "inputWidgets": {},
     "nuid": "6616a5c8-9b94-4915-9b59-2fc03857b0b2",
     "showTitle": false,
     "title": ""
    }
   },
   "outputs": [
    {
     "output_type": "stream",
     "name": "stdout",
     "output_type": "stream",
     "text": [
      "Confusion Matrix for XGBoost Classifier:\n[[ 368   59   82]\n [  29  228  224]\n [  20   51 1933]]\nScore:  84.47\nClassification Report:\n              precision    recall  f1-score   support\n\n         1.0       0.88      0.72      0.79       509\n         3.0       0.67      0.47      0.56       481\n         5.0       0.86      0.96      0.91      2004\n\n    accuracy                           0.84      2994\n   macro avg       0.81      0.72      0.75      2994\nweighted avg       0.84      0.84      0.83      2994\n\n"
     ]
    }
   ],
   "source": [
    "import xgboost\n",
    "from xgboost import XGBClassifier\n",
    "xgb = XGBClassifier()\n",
    "xgb.fit(x_train,(y_train-1)/2)\n",
    "predxgb = xgb.predict(x_test)\n",
    "print(\"Confusion Matrix for XGBoost Classifier:\")\n",
    "print(confusion_matrix(y_test,(predxgb*2)+1))\n",
    "print(\"Score: \",round(accuracy_score(y_test,(predxgb*2)+1)*100,2))\n",
    "print(\"Classification Report:\")\n",
    "print(classification_report(y_test,(predxgb*2)+1))"
   ]
  },
  {
   "cell_type": "code",
   "execution_count": 0,
   "metadata": {
    "application/vnd.databricks.v1+cell": {
     "cellMetadata": {
      "byteLimit": 2048000,
      "rowLimit": 10000
     },
     "inputWidgets": {},
     "nuid": "279173d2-b803-4845-983a-589cf75f6b5b",
     "showTitle": false,
     "title": ""
    }
   },
   "outputs": [
    {
     "output_type": "stream",
     "name": "stdout",
     "output_type": "stream",
     "text": [
      "Confusion Matrix for Multilayer Perceptron Classifier:\n[[ 412   60   37]\n [  60  261  160]\n [  34   77 1893]]\nScore: 85.7\nClassification Report:\n              precision    recall  f1-score   support\n\n         1.0       0.81      0.81      0.81       509\n         3.0       0.66      0.54      0.59       481\n         5.0       0.91      0.94      0.92      2004\n\n    accuracy                           0.86      2994\n   macro avg       0.79      0.77      0.78      2994\nweighted avg       0.85      0.86      0.85      2994\n\n"
     ]
    }
   ],
   "source": [
    "# MULTILAYER PERCEPTRON CLASSIFIER\n",
    "from sklearn.neural_network import MLPClassifier\n",
    "mlp = MLPClassifier()\n",
    "mlp.fit(x_train,y_train)\n",
    "predmlp = mlp.predict(x_test)\n",
    "print(\"Confusion Matrix for Multilayer Perceptron Classifier:\")\n",
    "print(confusion_matrix(y_test,predmlp))\n",
    "print(\"Score:\",round(accuracy_score(y_test,predmlp)*100,2))\n",
    "print(\"Classification Report:\")\n",
    "print(classification_report(y_test,predmlp))"
   ]
  },
  {
   "cell_type": "code",
   "execution_count": 0,
   "metadata": {
    "application/vnd.databricks.v1+cell": {
     "cellMetadata": {
      "byteLimit": 2048000,
      "rowLimit": 10000
     },
     "inputWidgets": {},
     "nuid": "7efc2de5-9899-487a-b405-479fd874ef06",
     "showTitle": false,
     "title": ""
    }
   },
   "outputs": [
    {
     "output_type": "stream",
     "name": "stdout",
     "output_type": "stream",
     "text": [
      "Confusion Matrix for Multilayer Perceptron Classifier:\n[[2317   60   37]\n [  60 2321  160]\n [  34   77 9902]]\nScore: 97.14\nClassification Report:\n              precision    recall  f1-score   support\n\n         1.0       0.96      0.96      0.96      2414\n         3.0       0.94      0.91      0.93      2541\n         5.0       0.98      0.99      0.98     10013\n\n    accuracy                           0.97     14968\n   macro avg       0.96      0.95      0.96     14968\nweighted avg       0.97      0.97      0.97     14968\n\n"
     ]
    }
   ],
   "source": [
    "# POSITIVE REVIEW\n",
    "# get the predicted ratings for the entire training set\n",
    "pred_mlp_x = mlp.predict(x)\n",
    "\n",
    "# create a new DataFrame with the predicted ratings\n",
    "ratings_df = pd.DataFrame({'actual_ratings': y, 'predicted_ratings': pred_mlp_x})\n",
    "\n",
    "# print the confusion matrix, accuracy score, and classification report\n",
    "print(\"Confusion Matrix for Multilayer Perceptron Classifier:\")\n",
    "print(confusion_matrix(y,pred_mlp_x))\n",
    "print(\"Score:\",round(accuracy_score(y,pred_mlp_x)*100,2))\n",
    "print(\"Classification Report:\")\n",
    "print(classification_report(y,pred_mlp_x))"
   ]
  },
  {
   "cell_type": "code",
   "execution_count": 0,
   "metadata": {
    "application/vnd.databricks.v1+cell": {
     "cellMetadata": {
      "byteLimit": 2048000,
      "rowLimit": 10000
     },
     "inputWidgets": {},
     "nuid": "cec576eb-e354-4c57-b6e0-3398e48428c3",
     "showTitle": false,
     "title": ""
    }
   },
   "outputs": [
    {
     "output_type": "stream",
     "name": "stdout",
     "output_type": "stream",
     "text": [
      "I really can't think of anything bad to say about this place! I have eaten there twice and verbally (and loudly) moaned in food pleasure over each meal!\n\nMeal One:\nWe Appz'd on the Assorted Breads.  Safe choice, but wonderful selections!\nMy dinner entree was the Amish Chicken. Very tender and juicy and the potato hash was wonderful!\n\nMeal Two:\nThe Appz was the Potted Pig, and the Flash Fried Brussels Sprouts.\nThe potted pig was plated creatively having to use a spoon to dive into the pork (texture of a country pate) and then add your toppings from the pickled selections of veggies they gave you either on a cracker or bread.  It was good.... BUT\n\nIf you REALLY want a surprising treat, get the Flash Fried Brussels Sprouts! Holy YUM. If Brussels Spouts could ever be considered candy.... you found it here.  They flash fry them and put them in a dish with onions, almonds and bacon! What a TREAT! \n\nI chose (after tasting my buddies last visit) the Pork Chop. And I remembered correctly, it was fantastic! The pork was perfectly seasoned and cooked and they put it over a bed of  sweet potatoes and topped it with apple slaw. So many flavors that melded together perfectly! and YES I ate my entire plate!\n\nDessert\nwe each got one and shared - table of four here-just for reference ;)\nWe got the S'mores pudding. They topped with semi burned marshmallows. Holy yum. and the pudding  was topped with candied pecans.\n\nI can not recall the name of the dessert our friends got, but we tried it and it was good as well! I do remember it had cinnamon ice cream.\n\nOne of the things I like about The Block is you can also purchase fresh butchered meats here!\n\nGreat place!\nActual Rating:  5.0\nPredicted Rating: 5.0\n"
     ]
    }
   ],
   "source": [
    "# POSITIVE REVIEW\n",
    "pr = review_df['text'][1]\n",
    "print(pr)\n",
    "print(\"Actual Rating: \",review_df['stars'][1])\n",
    "pr_t = vocab.transform([pr])\n",
    "print(\"Predicted Rating:\", mlp.predict(pr_t)[0])"
   ]
  },
  {
   "cell_type": "code",
   "execution_count": 0,
   "metadata": {
    "application/vnd.databricks.v1+cell": {
     "cellMetadata": {
      "byteLimit": 2048000,
      "rowLimit": 10000
     },
     "inputWidgets": {},
     "nuid": "0bbb1bd5-5858-4abf-9638-f96d53fb065b",
     "showTitle": false,
     "title": ""
    }
   },
   "outputs": [
    {
     "output_type": "stream",
     "name": "stdout",
     "output_type": "stream",
     "text": [
      "Confusing menu. Too many nicknames and gimmicks. Service was very slow. Steak was dry and overly chopped. Roll was awesome. Place was clean and they ha a dog bowl with water and treats. So three stars instead of two.  Cheesesteak time warp if your coming from city.\nActual Rating:  3.0\nPredicted Rating: 3.0\n"
     ]
    }
   ],
   "source": [
    "# AVERAGE REVIEW\n",
    "ar = review_df['text'][10647]\n",
    "print(ar)\n",
    "print(\"Actual Rating: \",review_df['stars'][10647])\n",
    "ar_t = vocab.transform([ar])\n",
    "print(\"Predicted Rating:\",mlp.predict(ar_t)[0])"
   ]
  },
  {
   "cell_type": "code",
   "execution_count": 0,
   "metadata": {
    "application/vnd.databricks.v1+cell": {
     "cellMetadata": {
      "byteLimit": 2048000,
      "rowLimit": 10000
     },
     "inputWidgets": {},
     "nuid": "6af5b077-88d0-4e6f-b1b1-eef6d28b63f6",
     "showTitle": false,
     "title": ""
    }
   },
   "outputs": [
    {
     "output_type": "stream",
     "name": "stdout",
     "output_type": "stream",
     "text": [
      "Frankly, The Dish was one of my very special favorite small restaurants in Tucson before they moved across the street. Now it seems the restaurant owners can't decide whether to be a restaurant or an appetizer bar. I don't think they can have it both ways, especially with rude servers, cold  food and multiple mistakes in the plate orders. OK, perhaps it was an off night. I have plenty of those myself. At least they only burnt two of the steaks, as the other two orders were fish and shellfish.But it made me long for the days of The Dish before this last  disastrous move.\nActual Rating:  1.0\nPredicted Rating: 1.0\n"
     ]
    }
   ],
   "source": [
    "# NEGATIVE REVIEW\n",
    "nr = review_df['text'][21349]\n",
    "print(nr)\n",
    "print(\"Actual Rating: \",review_df['stars'][21349])\n",
    "nr_t = vocab.transform([nr])\n",
    "print(\"Predicted Rating:\", mlp.predict(nr_t)[0])"
   ]
  },
  {
   "cell_type": "code",
   "execution_count": 0,
   "metadata": {
    "application/vnd.databricks.v1+cell": {
     "cellMetadata": {
      "byteLimit": 2048000,
      "rowLimit": 10000
     },
     "inputWidgets": {},
     "nuid": "08785242-ccf3-41c5-84a4-de4968d5d85d",
     "showTitle": false,
     "title": ""
    }
   },
   "outputs": [
    {
     "output_type": "stream",
     "name": "stdout",
     "output_type": "stream",
     "text": [
      "5.0    10013\n4.0     5765\n3.0     2541\n1.0     2414\n2.0     1767\nName: stars, dtype: int64\n"
     ]
    }
   ],
   "source": [
    "count = review_df['stars'].value_counts()\n",
    "print(count)"
   ]
  }
 ],
 "metadata": {
  "application/vnd.databricks.v1+notebook": {
   "dashboards": [],
   "language": "python",
   "notebookMetadata": {
    "mostRecentlyExecutedCommandWithImplicitDF": {
     "commandId": 1607392295100286,
     "dataframes": [
      "_sqldf"
     ]
    },
    "pythonIndentUnit": 4
   },
   "notebookName": "Fake review Analysis on Yelp dataset",
   "widgets": {}
  }
 },
 "nbformat": 4,
 "nbformat_minor": 0
}
